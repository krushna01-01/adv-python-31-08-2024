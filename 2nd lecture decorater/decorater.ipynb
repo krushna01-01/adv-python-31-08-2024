{
 "cells": [
  {
   "cell_type": "markdown",
   "metadata": {},
   "source": [
    "# decoratore"
   ]
  },
  {
   "cell_type": "markdown",
   "metadata": {},
   "source": [
    "# **kwargs in python"
   ]
  },
  {
   "cell_type": "code",
   "execution_count": 4,
   "metadata": {},
   "outputs": [],
   "source": [
    "krushna = {\n",
    "    \"name\": \"krushna\",\n",
    "    \"age\": 21,\n",
    "    \"salary\":20000,\n",
    "    \"department\":\"HR\"\n",
    "}"
   ]
  },
  {
   "cell_type": "code",
   "execution_count": 5,
   "metadata": {},
   "outputs": [
    {
     "data": {
      "text/plain": [
       "dict"
      ]
     },
     "execution_count": 5,
     "metadata": {},
     "output_type": "execute_result"
    }
   ],
   "source": [
    "type(krushna)"
   ]
  },
  {
   "cell_type": "code",
   "execution_count": 7,
   "metadata": {},
   "outputs": [
    {
     "data": {
      "text/plain": [
       "dict_keys(['name', 'age', 'salary', 'department'])"
      ]
     },
     "execution_count": 7,
     "metadata": {},
     "output_type": "execute_result"
    }
   ],
   "source": [
    "krushna.keys()"
   ]
  },
  {
   "cell_type": "code",
   "execution_count": 9,
   "metadata": {},
   "outputs": [
    {
     "data": {
      "text/plain": [
       "dict_values(['krushna', 21, 20000, 'HR'])"
      ]
     },
     "execution_count": 9,
     "metadata": {},
     "output_type": "execute_result"
    }
   ],
   "source": [
    "krushna.values()"
   ]
  },
  {
   "cell_type": "code",
   "execution_count": 11,
   "metadata": {},
   "outputs": [
    {
     "data": {
      "text/plain": [
       "dict_items([('name', 'krushna'), ('age', 21), ('salary', 20000), ('department', 'HR')])"
      ]
     },
     "execution_count": 11,
     "metadata": {},
     "output_type": "execute_result"
    }
   ],
   "source": [
    "krushna.items()"
   ]
  },
  {
   "cell_type": "code",
   "execution_count": 14,
   "metadata": {},
   "outputs": [
    {
     "name": "stdout",
     "output_type": "stream",
     "text": [
      "name : krushna\n",
      "age : 21\n",
      "salary : 20000\n",
      "department : HR\n"
     ]
    }
   ],
   "source": [
    "for key, value in krushna.items():\n",
    "    print(f\"{key} : {value}\")"
   ]
  },
  {
   "cell_type": "code",
   "execution_count": 15,
   "metadata": {},
   "outputs": [],
   "source": [
    "def function(**kwargs):\n",
    "    print(kwargs)\n",
    "    print(type(kwargs))\n",
    "    for key,value in kwargs.items():\n",
    "        print(f\"{key} : {value}\")"
   ]
  },
  {
   "cell_type": "code",
   "execution_count": 20,
   "metadata": {},
   "outputs": [
    {
     "name": "stdout",
     "output_type": "stream",
     "text": [
      "{'name': 'koustubh', 'age': 22}\n",
      "<class 'dict'>\n",
      "name : koustubh\n",
      "age : 22\n"
     ]
    }
   ],
   "source": [
    "function(name=\"koustubh\",age=22)"
   ]
  },
  {
   "cell_type": "code",
   "execution_count": 21,
   "metadata": {},
   "outputs": [
    {
     "name": "stdout",
     "output_type": "stream",
     "text": [
      "{'emp_id': 1, 'name': 'atharva', 'dept': 'marketing', 'married': False}\n",
      "<class 'dict'>\n",
      "emp_id : 1\n",
      "name : atharva\n",
      "dept : marketing\n",
      "married : False\n"
     ]
    }
   ],
   "source": [
    "function(emp_id=1, name=\"atharva\", dept=\"marketing\", married=False)"
   ]
  },
  {
   "cell_type": "code",
   "execution_count": 23,
   "metadata": {},
   "outputs": [],
   "source": [
    "menu = {\n",
    "    \"paneerchilli\": 190,\n",
    "    \"chiken65\": 180,\n",
    "    \"fried_chiken\": 260,\n",
    "    \"paneer\": 120,\n",
    "    \"pasta\": 150,\n",
    "    \" vegburger\": 125,\n",
    "    \"nonvegburger\": 160\n",
    "    \n",
    "}"
   ]
  },
  {
   "cell_type": "code",
   "execution_count": 26,
   "metadata": {},
   "outputs": [
    {
     "data": {
      "text/plain": [
       "125"
      ]
     },
     "execution_count": 26,
     "metadata": {},
     "output_type": "execute_result"
    }
   ],
   "source": [
    "menu.get(\" veg burger\")"
   ]
  },
  {
   "cell_type": "code",
   "execution_count": 27,
   "metadata": {},
   "outputs": [
    {
     "data": {
      "text/plain": [
       "260"
      ]
     },
     "execution_count": 27,
     "metadata": {},
     "output_type": "execute_result"
    }
   ],
   "source": [
    "menu.get(\"fried chiken\")"
   ]
  },
  {
   "cell_type": "code",
   "execution_count": 31,
   "metadata": {},
   "outputs": [],
   "source": [
    "def hotel_bill(table_no, **kwargs):\n",
    "    # Print table number\n",
    "    print(f\"Table number - {table_no}\")\n",
    "    # Intialize total amount to 0\n",
    "    amt = 0\n",
    "    # Apply for loop on kwargs\n",
    "    for food, qty in kwargs.items():\n",
    "        price = menu.get(food)\n",
    "        if price is not None:\n",
    "            subtotal = price*qty\n",
    "            amt += subtotal\n",
    "        print(f\"Food item - {food}, qty- {qty}, price - {price} INR, subtotal - {subtotal} INR\")\n",
    "    # Show the final bill\n",
    "    print(f\"Final Bill is : {amt} INR\")\n",
    "    return amt"
   ]
  },
  {
   "cell_type": "code",
   "execution_count": 32,
   "metadata": {},
   "outputs": [
    {
     "name": "stdout",
     "output_type": "stream",
     "text": [
      "Table number - 1\n"
     ]
    },
    {
     "ename": "UnboundLocalError",
     "evalue": "cannot access local variable 'subtotal' where it is not associated with a value",
     "output_type": "error",
     "traceback": [
      "\u001b[1;31m---------------------------------------------------------------------------\u001b[0m",
      "\u001b[1;31mUnboundLocalError\u001b[0m                         Traceback (most recent call last)",
      "Cell \u001b[1;32mIn[32], line 1\u001b[0m\n\u001b[1;32m----> 1\u001b[0m t1 \u001b[38;5;241m=\u001b[39m \u001b[43mhotel_bill\u001b[49m\u001b[43m(\u001b[49m\n\u001b[0;32m      2\u001b[0m \u001b[43m    \u001b[49m\u001b[43mtable_no\u001b[49m\u001b[38;5;241;43m=\u001b[39;49m\u001b[38;5;241;43m1\u001b[39;49m\u001b[43m,\u001b[49m\n\u001b[0;32m      3\u001b[0m \u001b[43m    \u001b[49m\u001b[43mpaneer\u001b[49m\u001b[38;5;241;43m=\u001b[39;49m\u001b[38;5;241;43m2\u001b[39;49m\u001b[43m,\u001b[49m\n\u001b[0;32m      4\u001b[0m \u001b[43m    \u001b[49m\u001b[43mvegburger\u001b[49m\u001b[38;5;241;43m=\u001b[39;49m\u001b[38;5;241;43m4\u001b[39;49m\u001b[43m,\u001b[49m\n\u001b[0;32m      5\u001b[0m \u001b[43m    \u001b[49m\u001b[43mnonvegburger\u001b[49m\u001b[38;5;241;43m=\u001b[39;49m\u001b[38;5;241;43m2\u001b[39;49m\u001b[43m,\u001b[49m\n\u001b[0;32m      6\u001b[0m \u001b[43m    \u001b[49m\u001b[43mchiken65\u001b[49m\u001b[38;5;241;43m=\u001b[39;49m\u001b[38;5;241;43m1\u001b[39;49m\n\u001b[0;32m      7\u001b[0m \u001b[43m)\u001b[49m\n",
      "Cell \u001b[1;32mIn[31], line 12\u001b[0m, in \u001b[0;36mhotel_bill\u001b[1;34m(table_no, **kwargs)\u001b[0m\n\u001b[0;32m     10\u001b[0m         subtotal \u001b[38;5;241m=\u001b[39m price\u001b[38;5;241m*\u001b[39mqty\n\u001b[0;32m     11\u001b[0m         amt \u001b[38;5;241m+\u001b[39m\u001b[38;5;241m=\u001b[39m subtotal\n\u001b[1;32m---> 12\u001b[0m     \u001b[38;5;28mprint\u001b[39m(\u001b[38;5;124mf\u001b[39m\u001b[38;5;124m\"\u001b[39m\u001b[38;5;124mFood item - \u001b[39m\u001b[38;5;132;01m{\u001b[39;00mfood\u001b[38;5;132;01m}\u001b[39;00m\u001b[38;5;124m, qty- \u001b[39m\u001b[38;5;132;01m{\u001b[39;00mqty\u001b[38;5;132;01m}\u001b[39;00m\u001b[38;5;124m, price - \u001b[39m\u001b[38;5;132;01m{\u001b[39;00mprice\u001b[38;5;132;01m}\u001b[39;00m\u001b[38;5;124m INR, subtotal - \u001b[39m\u001b[38;5;132;01m{\u001b[39;00m\u001b[43msubtotal\u001b[49m\u001b[38;5;132;01m}\u001b[39;00m\u001b[38;5;124m INR\u001b[39m\u001b[38;5;124m\"\u001b[39m)\n\u001b[0;32m     13\u001b[0m \u001b[38;5;66;03m# Show the final bill\u001b[39;00m\n\u001b[0;32m     14\u001b[0m \u001b[38;5;28mprint\u001b[39m(\u001b[38;5;124mf\u001b[39m\u001b[38;5;124m\"\u001b[39m\u001b[38;5;124mFinal Bill is : \u001b[39m\u001b[38;5;132;01m{\u001b[39;00mamt\u001b[38;5;132;01m}\u001b[39;00m\u001b[38;5;124m INR\u001b[39m\u001b[38;5;124m\"\u001b[39m)\n",
      "\u001b[1;31mUnboundLocalError\u001b[0m: cannot access local variable 'subtotal' where it is not associated with a value"
     ]
    }
   ],
   "source": [
    "t1 = hotel_bill(\n",
    "    table_no=1,\n",
    "    paneer=2,\n",
    "    vegburger=4,\n",
    "    nonvegburger=2,\n",
    "    chiken65=1\n",
    ")"
   ]
  },
  {
   "cell_type": "code",
   "execution_count": null,
   "metadata": {},
   "outputs": [],
   "source": []
  }
 ],
 "metadata": {
  "kernelspec": {
   "display_name": "venv",
   "language": "python",
   "name": "python3"
  },
  "language_info": {
   "codemirror_mode": {
    "name": "ipython",
    "version": 3
   },
   "file_extension": ".py",
   "mimetype": "text/x-python",
   "name": "python",
   "nbconvert_exporter": "python",
   "pygments_lexer": "ipython3",
   "version": "3.12.4"
  }
 },
 "nbformat": 4,
 "nbformat_minor": 2
}
