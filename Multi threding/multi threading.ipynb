{
 "cells": [
  {
   "cell_type": "code",
   "execution_count": 1,
   "metadata": {},
   "outputs": [],
   "source": [
    "import time"
   ]
  },
  {
   "cell_type": "code",
   "execution_count": 2,
   "metadata": {},
   "outputs": [
    {
     "name": "stdout",
     "output_type": "stream",
     "text": [
      "code execution started\n",
      "execution complete\n"
     ]
    }
   ],
   "source": [
    "print(\"code execution started\")\n",
    "time.sleep(3)\n",
    "print(\"execution complete\")"
   ]
  },
  {
   "cell_type": "code",
   "execution_count": 3,
   "metadata": {},
   "outputs": [
    {
     "name": "stdout",
     "output_type": "stream",
     "text": [
      "code execution started\n",
      "execution complete\n",
      "CPU times: total: 0 ns\n",
      "Wall time: 3 s\n"
     ]
    }
   ],
   "source": [
    "%%time\n",
    "print(\"code execution started\")\n",
    "time.sleep(3)\n",
    "print(\"execution complete\")"
   ]
  },
  {
   "cell_type": "code",
   "execution_count": 5,
   "metadata": {},
   "outputs": [],
   "source": [
    "def hypotenuse(a,b):\n",
    "    print(\"hypotenuse execution started\")\n",
    "    time.sleep(3)\n",
    "    c = (a**2+b**2)**(1/2)\n",
    "    print(f\"hypoteneous value of{a}and{b}is{c:.4f}\")"
   ]
  },
  {
   "cell_type": "code",
   "execution_count": 7,
   "metadata": {},
   "outputs": [
    {
     "name": "stdout",
     "output_type": "stream",
     "text": [
      "hypotenuse execution started\n",
      "hypoteneous value of3and4is5.0000\n",
      "CPU times: total: 15.6 ms\n",
      "Wall time: 3 s\n"
     ]
    }
   ],
   "source": [
    "%%time\n",
    "hypotenuse(3,4)"
   ]
  },
  {
   "cell_type": "code",
   "execution_count": null,
   "metadata": {},
   "outputs": [],
   "source": []
  },
  {
   "cell_type": "code",
   "execution_count": 8,
   "metadata": {},
   "outputs": [],
   "source": [
    "def simple_interest(p,n,r):\n",
    "    print(f\"simple interest execution started\")\n",
    "    time.sleep(2)\n",
    "    i = (p*n*r)/100\n",
    "    print(f\"simple interest:{i}\")\n"
   ]
  },
  {
   "cell_type": "code",
   "execution_count": 10,
   "metadata": {},
   "outputs": [
    {
     "name": "stdout",
     "output_type": "stream",
     "text": [
      "simple interest execution started\n",
      "simple interest:10650.0\n",
      "CPU times: total: 0 ns\n",
      "Wall time: 2 s\n"
     ]
    }
   ],
   "source": [
    "%%time\n",
    "simple_interest(p=30000, n=5, r=7.1)"
   ]
  },
  {
   "cell_type": "markdown",
   "metadata": {},
   "source": [
    "## single thread"
   ]
  },
  {
   "cell_type": "code",
   "execution_count": 11,
   "metadata": {},
   "outputs": [
    {
     "name": "stdout",
     "output_type": "stream",
     "text": [
      "hypotenuse execution started\n",
      "hypoteneous value of4and5is6.4031\n",
      "simple interest execution started\n",
      "simple interest:11250.0\n",
      "CPU times: total: 0 ns\n",
      "Wall time: 5 s\n"
     ]
    }
   ],
   "source": [
    "%%time\n",
    "hypotenuse(4,5)\n",
    "simple_interest(p=30000,n=5,r=7.5)"
   ]
  },
  {
   "cell_type": "markdown",
   "metadata": {},
   "source": [
    "## multithreading"
   ]
  },
  {
   "cell_type": "code",
   "execution_count": 13,
   "metadata": {},
   "outputs": [],
   "source": [
    "from threading import Thread"
   ]
  },
  {
   "cell_type": "code",
   "execution_count": 20,
   "metadata": {},
   "outputs": [
    {
     "name": "stdout",
     "output_type": "stream",
     "text": [
      "hypotenuse execution started\n",
      "simple interest execution started\n",
      "simple interest:10650.0\n",
      "hypoteneous value of5and6is7.8102\n"
     ]
    }
   ],
   "source": [
    "th1 = Thread(target=hypotenuse, args=(5, 6)) \n",
    "th2 = Thread(target=simple_interest, args=(30000, 5, 7.1))\n",
    "\n",
    "th1.start()\n",
    "th2.start()\n",
    "\n",
    "th1.join()\n",
    "th2.join()"
   ]
  },
  {
   "cell_type": "markdown",
   "metadata": {},
   "source": [
    "## single function but multipal values"
   ]
  },
  {
   "cell_type": "code",
   "execution_count": 21,
   "metadata": {},
   "outputs": [],
   "source": [
    "def square(n):\n",
    "    time.sleep(3)\n",
    "    print(f\"Square of given number {n} is {n**2}\\n\\n\")"
   ]
  },
  {
   "cell_type": "code",
   "execution_count": 22,
   "metadata": {},
   "outputs": [
    {
     "name": "stdout",
     "output_type": "stream",
     "text": [
      "Square of given number 11 is 121\n",
      "\n",
      "\n",
      "CPU times: total: 0 ns\n",
      "Wall time: 3 s\n"
     ]
    }
   ],
   "source": [
    "%%time\n",
    "square(11)"
   ]
  },
  {
   "cell_type": "code",
   "execution_count": 23,
   "metadata": {},
   "outputs": [],
   "source": [
    "nums = [3, 4, 5, 6, 7.5]"
   ]
  },
  {
   "cell_type": "code",
   "execution_count": 24,
   "metadata": {},
   "outputs": [
    {
     "name": "stdout",
     "output_type": "stream",
     "text": [
      "Square of given number 3 is 9\n",
      "\n",
      "\n",
      "Square of given number 4 is 16\n",
      "\n",
      "\n",
      "Square of given number 5 is 25\n",
      "\n",
      "\n",
      "Square of given number 6 is 36\n",
      "\n",
      "\n",
      "Square of given number 7.5 is 56.25\n",
      "\n",
      "\n",
      "CPU times: total: 15.6 ms\n",
      "Wall time: 15 s\n"
     ]
    }
   ],
   "source": [
    "%%time\n",
    "# single thread\n",
    "for i in nums:\n",
    "    square(i)"
   ]
  },
  {
   "cell_type": "code",
   "execution_count": 25,
   "metadata": {},
   "outputs": [
    {
     "name": "stdout",
     "output_type": "stream",
     "text": [
      "Square of given number 3 is 9\n",
      "\n",
      "Square of given number 6 is 36\n",
      "\n",
      "\n",
      "\n",
      "Square of given number 7.5 is 56.25\n",
      "\n",
      "\n",
      "Square of given number 5 is 25\n",
      "\n",
      "\n",
      "Square of given number 4 is 16\n",
      "\n",
      "\n",
      "CPU times: total: 0 ns\n",
      "Wall time: 3.02 s\n"
     ]
    }
   ],
   "source": [
    "%%time\n",
    "# Create the threads\n",
    "threads = []\n",
    "for i in nums:\n",
    "    th = Thread(target=square, args=(i, ))\n",
    "    th.start()\n",
    "    threads.append(th)\n",
    "\n",
    "# Wait for all threads to finish\n",
    "for th in threads:\n",
    "    th.join()"
   ]
  },
  {
   "cell_type": "code",
   "execution_count": null,
   "metadata": {},
   "outputs": [],
   "source": []
  },
  {
   "cell_type": "code",
   "execution_count": null,
   "metadata": {},
   "outputs": [],
   "source": []
  }
 ],
 "metadata": {
  "kernelspec": {
   "display_name": "venv",
   "language": "python",
   "name": "python3"
  },
  "language_info": {
   "codemirror_mode": {
    "name": "ipython",
    "version": 3
   },
   "file_extension": ".py",
   "mimetype": "text/x-python",
   "name": "python",
   "nbconvert_exporter": "python",
   "pygments_lexer": "ipython3",
   "version": "3.12.4"
  }
 },
 "nbformat": 4,
 "nbformat_minor": 2
}
