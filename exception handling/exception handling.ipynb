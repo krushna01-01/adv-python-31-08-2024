{
 "cells": [
  {
   "cell_type": "markdown",
   "metadata": {},
   "source": [
    "## division function without exception"
   ]
  },
  {
   "cell_type": "code",
   "execution_count": 2,
   "metadata": {},
   "outputs": [],
   "source": [
    "def division():\n",
    "    num = float(input(\"please enter a numerator:\"))\n",
    "    den = float(input(\"please enter a dominator :\"))\n",
    "    div = num/den\n",
    "    print(f\"division of{num}and{den}is{div}\")\n",
    "    return div"
   ]
  },
  {
   "cell_type": "code",
   "execution_count": 3,
   "metadata": {},
   "outputs": [
    {
     "name": "stdout",
     "output_type": "stream",
     "text": [
      "division of20.0and5.0is4.0\n",
      "program complete\n"
     ]
    }
   ],
   "source": [
    "# num - 20, den - 5\n",
    "a= division()\n",
    "print(\"program complete\")"
   ]
  },
  {
   "cell_type": "code",
   "execution_count": 4,
   "metadata": {},
   "outputs": [
    {
     "name": "stdout",
     "output_type": "stream",
     "text": [
      "division of50.0and10.0is5.0\n",
      "program completed\n"
     ]
    }
   ],
   "source": [
    "# num -50 , den - 10\n",
    "b= division()\n",
    "print(\"program completed\")"
   ]
  },
  {
   "cell_type": "markdown",
   "metadata": {},
   "source": [
    "## generic way of handling exception"
   ]
  },
  {
   "cell_type": "code",
   "execution_count": 9,
   "metadata": {},
   "outputs": [],
   "source": [
    "def division2():\n",
    "    try:\n",
    "        num= float(input(\"please enter numerator :\"))\n",
    "        den= float(input(\"please enter denominator :\"))\n",
    "        div= num/den\n",
    "        print(f\"division of {num} and {den}is {div}\")\n",
    "        return div\n",
    "    except Exception as e:\n",
    "        print(f\"exception occured:{e}\")"
   ]
  },
  {
   "cell_type": "code",
   "execution_count": 10,
   "metadata": {},
   "outputs": [
    {
     "name": "stdout",
     "output_type": "stream",
     "text": [
      "division of 20.0 and 4.0is 5.0\n",
      "program completed\n"
     ]
    }
   ],
   "source": [
    "# num - 20, den-4\n",
    "b= division2()\n",
    "print(\"program completed\")"
   ]
  },
  {
   "cell_type": "code",
   "execution_count": 11,
   "metadata": {},
   "outputs": [
    {
     "data": {
      "text/plain": [
       "5.0"
      ]
     },
     "execution_count": 11,
     "metadata": {},
     "output_type": "execute_result"
    }
   ],
   "source": [
    "b"
   ]
  },
  {
   "cell_type": "code",
   "execution_count": 12,
   "metadata": {},
   "outputs": [
    {
     "name": "stdout",
     "output_type": "stream",
     "text": [
      "exception occured:float division by zero\n",
      "Program completed\n"
     ]
    }
   ],
   "source": [
    "\n",
    "# num - 25, den - 0\n",
    "b = division2()\n",
    "print(\"Program completed\")"
   ]
  },
  {
   "cell_type": "code",
   "execution_count": 13,
   "metadata": {},
   "outputs": [
    {
     "name": "stdout",
     "output_type": "stream",
     "text": [
      "division of 3.0 and 1.0is 3.0\n",
      "12\n"
     ]
    }
   ],
   "source": [
    "\n",
    "# Invailid user num - abc\n",
    "division2()\n",
    "print(3*4)"
   ]
  },
  {
   "cell_type": "code",
   "execution_count": 14,
   "metadata": {},
   "outputs": [],
   "source": [
    "def division3():\n",
    "    try:\n",
    "        num = float(input(\"Please enter a numerator : \"))\n",
    "        den = float(input(\"Pleas enter Denominator : \"))\n",
    "        div = num/den \n",
    "        print(f\"Divison of {num} and {den} is {div}\")\n",
    "        return div \n",
    "    except ZeroDivisionError:\n",
    "        print(\"Denominator for division should not be 0\")\n",
    "    except ValueError:\n",
    "        print(\"Invalid input entered , only numbers as input is allowed\")\n",
    "        print(\"Blank values not allowed\")\n",
    "    except Exception as e:\n",
    "        print(f\"Unexpected error occured : {e}\") "
   ]
  },
  {
   "cell_type": "code",
   "execution_count": 15,
   "metadata": {},
   "outputs": [
    {
     "name": "stdout",
     "output_type": "stream",
     "text": [
      "Divison of 25.0 and 5.0 is 5.0\n"
     ]
    },
    {
     "data": {
      "text/plain": [
       "5.0"
      ]
     },
     "execution_count": 15,
     "metadata": {},
     "output_type": "execute_result"
    }
   ],
   "source": [
    "\n",
    "# num - 25, den - 5\n",
    "division3()"
   ]
  },
  {
   "cell_type": "code",
   "execution_count": null,
   "metadata": {},
   "outputs": [],
   "source": []
  },
  {
   "cell_type": "code",
   "execution_count": null,
   "metadata": {},
   "outputs": [],
   "source": []
  },
  {
   "cell_type": "code",
   "execution_count": null,
   "metadata": {},
   "outputs": [],
   "source": []
  }
 ],
 "metadata": {
  "kernelspec": {
   "display_name": "venv",
   "language": "python",
   "name": "python3"
  },
  "language_info": {
   "codemirror_mode": {
    "name": "ipython",
    "version": 3
   },
   "file_extension": ".py",
   "mimetype": "text/x-python",
   "name": "python",
   "nbconvert_exporter": "python",
   "pygments_lexer": "ipython3",
   "version": "3.12.4"
  }
 },
 "nbformat": 4,
 "nbformat_minor": 2
}
